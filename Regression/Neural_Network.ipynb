{
  "cells": [
    {
      "cell_type": "markdown",
      "metadata": {
        "id": "sWksN2ZV-oZW"
      },
      "source": [
        "# Importing Libraries"
      ]
    },
    {
      "cell_type": "code",
      "execution_count": 1,
      "metadata": {
        "id": "ZcoCkG4m8V_P"
      },
      "outputs": [],
      "source": [
        "from numpy import mean\n",
        "from numpy import std\n",
        "from collections import Counter\n",
        "from sklearn.datasets import make_multilabel_classification\n",
        "from sklearn.model_selection import RepeatedKFold\n",
        "from keras.models import Sequential\n",
        "from keras.layers import Dense,Dropout\n",
        "from sklearn.metrics import accuracy_score,confusion_matrix\n",
        "from sklearn.preprocessing import LabelEncoder,normalize,StandardScaler,MinMaxScaler\n",
        "from sklearn.model_selection import train_test_split\n",
        "from sklearn import preprocessing\n",
        "from imblearn.over_sampling import SMOTE,ADASYN\n",
        "import pandas as pd\n",
        "import numpy as np\n",
        "import tensorflow as tf \n",
        "from sklearn import preprocessing\n",
        "import joblib"
      ]
    },
    {
      "cell_type": "markdown",
      "metadata": {
        "id": "k5qiksQBE1Tc"
      },
      "source": [
        "# Move data from google drive"
      ]
    },
    {
      "cell_type": "code",
      "execution_count": 2,
      "metadata": {
        "id": "pAGq01eIE07T"
      },
      "outputs": [],
      "source": [
        "!cp \"/content/drive/MyDrive/torcsdataset/datareducednew.csv\" \"/content\""
      ]
    },
    {
      "cell_type": "markdown",
      "metadata": {
        "id": "VLm39HbS-Uph"
      },
      "source": [
        "# Loading Data"
      ]
    },
    {
      "cell_type": "code",
      "execution_count": 13,
      "metadata": {
        "colab": {
          "base_uri": "https://localhost:8080/"
        },
        "id": "LcZ937z08aPe",
        "outputId": "23ed9445-cc23-42eb-a6fa-98f05ca7af9e"
      },
      "outputs": [
        {
          "output_type": "stream",
          "name": "stdout",
          "text": [
            "(355257, 34)\n",
            "(355257, 2)\n"
          ]
        }
      ],
      "source": [
        "dataa = pd.read_csv(r'datareducednew.csv')\n",
        "dataa.dropna()\n",
        "x = dataa.iloc[:, :-2].values\n",
        "y = dataa.iloc[:, 34:36].values\n",
        "print(x.shape)\n",
        "print(y.shape)"
      ]
    },
    {
      "cell_type": "markdown",
      "metadata": {
        "id": "u-3PfDQqA8QD"
      },
      "source": [
        "# Preprocessing of data"
      ]
    },
    {
      "cell_type": "code",
      "execution_count": 14,
      "metadata": {
        "id": "mnpDUVnkAVM7"
      },
      "outputs": [],
      "source": [
        "X_train, X_test, y_train, y_test = train_test_split(x, y, test_size=0.3)"
      ]
    },
    {
      "cell_type": "markdown",
      "metadata": {
        "id": "-AgV3KUw-cEl"
      },
      "source": [
        "# Creating the model"
      ]
    },
    {
      "cell_type": "code",
      "execution_count": 15,
      "metadata": {
        "id": "CTUaNhk48fFp"
      },
      "outputs": [],
      "source": [
        "\n",
        "model = Sequential()\n",
        "model.add(Dense(34, input_dim=34, activation='relu'))\n",
        "model.add(Dense(16, activation='relu'))\n",
        "model.add(Dense(2, activation='linear'))\n",
        "model.compile(loss='mean_squared_error', optimizer='adam',metrics=['accuracy'])\n"
      ]
    },
    {
      "cell_type": "markdown",
      "metadata": {
        "id": "TspKe_4l-g3X"
      },
      "source": [
        "# Training Model"
      ]
    },
    {
      "cell_type": "code",
      "execution_count": null,
      "metadata": {
        "id": "wlux5OFC8iqb",
        "colab": {
          "base_uri": "https://localhost:8080/"
        },
        "outputId": "577e9bd1-9214-484e-befa-9c2b4fb9c11d"
      },
      "outputs": [
        {
          "output_type": "stream",
          "name": "stdout",
          "text": [
            "Epoch 1/50\n",
            "7772/7772 [==============================] - 27s 3ms/step - loss: 49.1833 - accuracy: 0.5659\n",
            "Epoch 2/50\n",
            "7772/7772 [==============================] - 27s 3ms/step - loss: 8.3009 - accuracy: 0.6402\n",
            "Epoch 3/50\n",
            " 148/7772 [..............................] - ETA: 26s - loss: 2.5698 - accuracy: 0.7135"
          ]
        }
      ],
      "source": [
        "# fit model\n",
        "model.fit(X_train, y_train,verbose=1, epochs=50)\n",
        "print(\"trained\")\n",
        "model.save('model.h5')\n"
      ]
    },
    {
      "cell_type": "markdown",
      "metadata": {
        "id": "G8qSFJy3-kcv"
      },
      "source": [
        "# Model Evaluation"
      ]
    },
    {
      "cell_type": "code",
      "execution_count": null,
      "metadata": {
        "id": "lCOyethD8nff",
        "colab": {
          "base_uri": "https://localhost:8080/"
        },
        "outputId": "42c1e95f-54ec-4440-daea-bf809f387fa5"
      },
      "outputs": [
        {
          "output_type": "stream",
          "name": "stdout",
          "text": [
            "3331/3331 [==============================] - 6s 2ms/step - loss: 0.1520 - accuracy: 0.8805\n",
            "Test loss: 0.1520417034626007 / Test accuracy: 0.8804631233215332\n"
          ]
        }
      ],
      "source": [
        "score = model.evaluate(X_test, y_test, verbose=1)\n",
        "print(f'Test loss: {score[0]} / Test accuracy: {score[1]}')"
      ]
    }
  ],
  "metadata": {
    "accelerator": "GPU",
    "colab": {
      "collapsed_sections": [],
      "name": "Neural_Network.ipynb",
      "provenance": []
    },
    "kernelspec": {
      "display_name": "Python 3",
      "name": "python3"
    },
    "language_info": {
      "name": "python"
    }
  },
  "nbformat": 4,
  "nbformat_minor": 0
}